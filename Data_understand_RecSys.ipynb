{
  "nbformat": 4,
  "nbformat_minor": 0,
  "metadata": {
    "colab": {
      "provenance": [],
      "toc_visible": true,
      "authorship_tag": "ABX9TyPjHRTGx9Osdgd3UOGQqqiF",
      "include_colab_link": true
    },
    "kernelspec": {
      "name": "python3",
      "display_name": "Python 3"
    },
    "language_info": {
      "name": "python"
    },
    "accelerator": "GPU",
    "gpuClass": "standard"
  },
  "cells": [
    {
      "cell_type": "markdown",
      "metadata": {
        "id": "view-in-github",
        "colab_type": "text"
      },
      "source": [
        "<a href=\"https://colab.research.google.com/github/thanhyx4/H-M-Personalized-Fashion-Recommendations/blob/main/Data_understand_RecSys.ipynb\" target=\"_parent\"><img src=\"https://colab.research.google.com/assets/colab-badge.svg\" alt=\"Open In Colab\"/></a>"
      ]
    },
    {
      "cell_type": "code",
      "execution_count": 1,
      "metadata": {
        "id": "hhym5yYNOiJ9"
      },
      "outputs": [],
      "source": [
        "import cv2\n",
        "import numpy as np # linear algebra\n",
        "import os\n",
        "import pandas as pd # data processing, CSV file I/O (e.g. pd.read_csv)\n",
        "import matplotlib.pyplot as plt\n",
        "import seaborn as sns\n",
        "import plotly.express as px\n",
        "from os import listdir\n",
        "from os.path import isfile, join\n",
        "\n",
        "from termcolor import colored\n",
        "from IPython.display import HTML\n",
        "\n",
        "import warnings\n",
        "pd.set_option('display.max_rows', None)\n",
        "pd.set_option('display.max_columns', None)\n",
        "pd.set_option('float_format', '{:f}'.format)\n",
        "warnings.filterwarnings('ignore')"
      ]
    },
    {
      "cell_type": "code",
      "source": [
        "from google.colab import drive\n",
        "drive.mount('/content/drive')"
      ],
      "metadata": {
        "id": "tUMEpKH40rJc",
        "colab": {
          "base_uri": "https://localhost:8080/"
        },
        "outputId": "c9319fa8-5bb6-45f5-f208-43198f238197"
      },
      "execution_count": 2,
      "outputs": [
        {
          "output_type": "stream",
          "name": "stdout",
          "text": [
            "Mounted at /content/drive\n"
          ]
        }
      ]
    },
    {
      "cell_type": "code",
      "source": [
        "df_article = pd.read_csv(\"/content/drive/MyDrive/Colab Notebooks/H&M_RecSys/articles.csv\")\n",
        "\n",
        "df_tran = pd.read_csv(\"/content/drive/MyDrive/Colab Notebooks/H&M_RecSys/transactions_train.csv\")\n",
        "df_cus =  pd.read_csv(\"/content/drive/MyDrive/Colab Notebooks/H&M_RecSys/customers.csv\")"
      ],
      "metadata": {
        "id": "N0Y0Dl2Wc-g5"
      },
      "execution_count": 3,
      "outputs": []
    },
    {
      "cell_type": "markdown",
      "source": [
        "# EDA:"
      ],
      "metadata": {
        "id": "bbimXu7OLGA4"
      }
    },
    {
      "cell_type": "code",
      "source": [
        "print(f\"Number of observations in ARTICLES: {colored(df_article.shape, 'yellow')}\")\n",
        "print(f\"Number of observations in CUSTOMERS: {colored(df_cus.shape, 'yellow')}\")\n",
        "print(f\"Number of observations in TRANSACTIONS: {colored(df_tran.shape, 'yellow')}\")"
      ],
      "metadata": {
        "colab": {
          "base_uri": "https://localhost:8080/"
        },
        "id": "H0jX57Q-vRn7",
        "outputId": "5705a318-343e-4df6-856f-067a361a2c6a"
      },
      "execution_count": 5,
      "outputs": [
        {
          "output_type": "stream",
          "name": "stdout",
          "text": [
            "Number of observations in ARTICLES: (105542, 25)\n",
            "Number of observations in CUSTOMERS: (1048575, 7)\n",
            "Number of observations in TRANSACTIONS: (31788324, 5)\n"
          ]
        }
      ]
    },
    {
      "cell_type": "code",
      "source": [
        " def data_overview(df):           #khao sat data, null_data\n",
        "  df_null = pd.DataFrame(df.isnull().sum().reset_index())\n",
        "  df_null.columns = ['feature', 'qtd_null']\n",
        "  df_null['percent_null'] = df_null['qtd_null']/len(df)\n",
        "  df_null['dtype'] = df_null['feature'].apply(lambda x: df[x].dtype)\n",
        "\n",
        "  return df_null\n",
        "\n",
        "df_overview = data_overview(df_article)\n",
        "df_overview"
      ],
      "metadata": {
        "id": "rcoYQ7rPE8b8"
      },
      "execution_count": null,
      "outputs": []
    },
    {
      "cell_type": "code",
      "source": [
        "len(df_article)"
      ],
      "metadata": {
        "colab": {
          "base_uri": "https://localhost:8080/"
        },
        "id": "U3E-ll2w3qsc",
        "outputId": "5c8366e0-0222-47b6-d6a9-6540f8127876"
      },
      "execution_count": null,
      "outputs": [
        {
          "output_type": "execute_result",
          "data": {
            "text/plain": [
              "105542"
            ]
          },
          "metadata": {},
          "execution_count": 14
        }
      ]
    },
    {
      "cell_type": "markdown",
      "source": [
        "## Article Understand"
      ],
      "metadata": {
        "id": "js8jB62CLevl"
      }
    },
    {
      "cell_type": "markdown",
      "source": [
        "When we want to recommend a product to a customer, we need to know more about the product and understand the customer to make a quality recommendation"
      ],
      "metadata": {
        "id": "-5Y3YFd4teFf"
      }
    },
    {
      "cell_type": "markdown",
      "source": [
        "### Product Type Name"
      ],
      "metadata": {
        "id": "FtjTCZ0V08yW"
      }
    },
    {
      "cell_type": "code",
      "source": [],
      "metadata": {
        "id": "xsCeSutt1FC1"
      },
      "execution_count": null,
      "outputs": []
    },
    {
      "cell_type": "markdown",
      "source": [
        "### Product Group Name"
      ],
      "metadata": {
        "id": "IdXUSZ0h1HsV"
      }
    },
    {
      "cell_type": "code",
      "source": [],
      "metadata": {
        "id": "cH-pz5qc1OoS"
      },
      "execution_count": null,
      "outputs": []
    },
    {
      "cell_type": "markdown",
      "source": [
        "### GRAPHICAL APPEARANCE NAME"
      ],
      "metadata": {
        "id": "0QxuLg151QYo"
      }
    },
    {
      "cell_type": "code",
      "source": [
        "#df_article.loc[df_article['index_name'] == 'Ladieswear', 'department_name'].unique()\n",
        "department = pd.DataFrame(columns = [np.sort(df_article['index_name'].unique())])\n",
        "for index_name in df_article['index_name'].unique():\n",
        "  department[index_name] = pd.Series(df_article.loc[df_article['index_name'] == index_name , 'department_name'].unique())\n",
        "department.head()"
      ],
      "metadata": {
        "id": "AKTwqQ11L2Uo",
        "colab": {
          "base_uri": "https://localhost:8080/",
          "height": 354
        },
        "outputId": "c2197bfd-670b-493f-ded4-9156b4024a41"
      },
      "execution_count": null,
      "outputs": [
        {
          "output_type": "execute_result",
          "data": {
            "text/plain": [
              "   Baby Sizes 50-98 Children Accessories, Swimwear   Children Sizes 134-170  \\\n",
              "0       Baby basics              Kids Girl Big Acc  Young Girl Jersey Basic   \n",
              "1    Baby Nightwear             Kids Girl Swimwear         Young Girl UW/NW   \n",
              "2        Baby Socks            Young Girl Swimwear   Young Boy Jersey Basic   \n",
              "3     Baby Toys/Acc              Kids Boy Swimwear           Young Girl S&T   \n",
              "4  Baby Boy Outdoor             Young boy Swimwear        Young Boy Trouser   \n",
              "\n",
              "    Children Sizes 92-140            Divided        Ladies Accessories  \\\n",
              "0          Kids Boy Denim                 UW  EQ & Special Collections   \n",
              "1   Kids Boy Jersey Basic      Divided Shoes          Hair Accessories   \n",
              "2         Kids Girl UW/NW            Basic 1               Other items   \n",
              "3           Kids Girl S&T   Tops Knitwear DS                     Belts   \n",
              "4  Kids Girl Jersey Basic  Small Accessories                Sunglasses   \n",
              "\n",
              "      Ladieswear  Lingeries/Tights          Menswear              Sport  \n",
              "0   Jersey Basic    Clean Lingerie      Jersey Basic    Men Sport Woven  \n",
              "1         Jersey      Tights basic     Jacket Street  Men Sport Bottoms  \n",
              "2       Knitwear   Casual Lingerie  Underwear Jersey      Men Sport Acc  \n",
              "3  Woven bottoms  Shopbasket Socks             Shirt     Men Sport Tops  \n",
              "4        Trouser             Socks           Trouser  Ladies Sport Bras  "
            ],
            "text/html": [
              "\n",
              "  <div id=\"df-c5b4fa19-7c1e-43ee-b692-fa08bd173e08\">\n",
              "    <div class=\"colab-df-container\">\n",
              "      <div>\n",
              "<style scoped>\n",
              "    .dataframe tbody tr th:only-of-type {\n",
              "        vertical-align: middle;\n",
              "    }\n",
              "\n",
              "    .dataframe tbody tr th {\n",
              "        vertical-align: top;\n",
              "    }\n",
              "\n",
              "    .dataframe thead tr th {\n",
              "        text-align: left;\n",
              "    }\n",
              "</style>\n",
              "<table border=\"1\" class=\"dataframe\">\n",
              "  <thead>\n",
              "    <tr>\n",
              "      <th></th>\n",
              "      <th>Baby Sizes 50-98</th>\n",
              "      <th>Children Accessories, Swimwear</th>\n",
              "      <th>Children Sizes 134-170</th>\n",
              "      <th>Children Sizes 92-140</th>\n",
              "      <th>Divided</th>\n",
              "      <th>Ladies Accessories</th>\n",
              "      <th>Ladieswear</th>\n",
              "      <th>Lingeries/Tights</th>\n",
              "      <th>Menswear</th>\n",
              "      <th>Sport</th>\n",
              "    </tr>\n",
              "  </thead>\n",
              "  <tbody>\n",
              "    <tr>\n",
              "      <th>0</th>\n",
              "      <td>Baby basics</td>\n",
              "      <td>Kids Girl Big Acc</td>\n",
              "      <td>Young Girl Jersey Basic</td>\n",
              "      <td>Kids Boy Denim</td>\n",
              "      <td>UW</td>\n",
              "      <td>EQ &amp; Special Collections</td>\n",
              "      <td>Jersey Basic</td>\n",
              "      <td>Clean Lingerie</td>\n",
              "      <td>Jersey Basic</td>\n",
              "      <td>Men Sport Woven</td>\n",
              "    </tr>\n",
              "    <tr>\n",
              "      <th>1</th>\n",
              "      <td>Baby Nightwear</td>\n",
              "      <td>Kids Girl Swimwear</td>\n",
              "      <td>Young Girl UW/NW</td>\n",
              "      <td>Kids Boy Jersey Basic</td>\n",
              "      <td>Divided Shoes</td>\n",
              "      <td>Hair Accessories</td>\n",
              "      <td>Jersey</td>\n",
              "      <td>Tights basic</td>\n",
              "      <td>Jacket Street</td>\n",
              "      <td>Men Sport Bottoms</td>\n",
              "    </tr>\n",
              "    <tr>\n",
              "      <th>2</th>\n",
              "      <td>Baby Socks</td>\n",
              "      <td>Young Girl Swimwear</td>\n",
              "      <td>Young Boy Jersey Basic</td>\n",
              "      <td>Kids Girl UW/NW</td>\n",
              "      <td>Basic 1</td>\n",
              "      <td>Other items</td>\n",
              "      <td>Knitwear</td>\n",
              "      <td>Casual Lingerie</td>\n",
              "      <td>Underwear Jersey</td>\n",
              "      <td>Men Sport Acc</td>\n",
              "    </tr>\n",
              "    <tr>\n",
              "      <th>3</th>\n",
              "      <td>Baby Toys/Acc</td>\n",
              "      <td>Kids Boy Swimwear</td>\n",
              "      <td>Young Girl S&amp;T</td>\n",
              "      <td>Kids Girl S&amp;T</td>\n",
              "      <td>Tops Knitwear DS</td>\n",
              "      <td>Belts</td>\n",
              "      <td>Woven bottoms</td>\n",
              "      <td>Shopbasket Socks</td>\n",
              "      <td>Shirt</td>\n",
              "      <td>Men Sport Tops</td>\n",
              "    </tr>\n",
              "    <tr>\n",
              "      <th>4</th>\n",
              "      <td>Baby Boy Outdoor</td>\n",
              "      <td>Young boy Swimwear</td>\n",
              "      <td>Young Boy Trouser</td>\n",
              "      <td>Kids Girl Jersey Basic</td>\n",
              "      <td>Small Accessories</td>\n",
              "      <td>Sunglasses</td>\n",
              "      <td>Trouser</td>\n",
              "      <td>Socks</td>\n",
              "      <td>Trouser</td>\n",
              "      <td>Ladies Sport Bras</td>\n",
              "    </tr>\n",
              "  </tbody>\n",
              "</table>\n",
              "</div>\n",
              "      <button class=\"colab-df-convert\" onclick=\"convertToInteractive('df-c5b4fa19-7c1e-43ee-b692-fa08bd173e08')\"\n",
              "              title=\"Convert this dataframe to an interactive table.\"\n",
              "              style=\"display:none;\">\n",
              "        \n",
              "  <svg xmlns=\"http://www.w3.org/2000/svg\" height=\"24px\"viewBox=\"0 0 24 24\"\n",
              "       width=\"24px\">\n",
              "    <path d=\"M0 0h24v24H0V0z\" fill=\"none\"/>\n",
              "    <path d=\"M18.56 5.44l.94 2.06.94-2.06 2.06-.94-2.06-.94-.94-2.06-.94 2.06-2.06.94zm-11 1L8.5 8.5l.94-2.06 2.06-.94-2.06-.94L8.5 2.5l-.94 2.06-2.06.94zm10 10l.94 2.06.94-2.06 2.06-.94-2.06-.94-.94-2.06-.94 2.06-2.06.94z\"/><path d=\"M17.41 7.96l-1.37-1.37c-.4-.4-.92-.59-1.43-.59-.52 0-1.04.2-1.43.59L10.3 9.45l-7.72 7.72c-.78.78-.78 2.05 0 2.83L4 21.41c.39.39.9.59 1.41.59.51 0 1.02-.2 1.41-.59l7.78-7.78 2.81-2.81c.8-.78.8-2.07 0-2.86zM5.41 20L4 18.59l7.72-7.72 1.47 1.35L5.41 20z\"/>\n",
              "  </svg>\n",
              "      </button>\n",
              "      \n",
              "  <style>\n",
              "    .colab-df-container {\n",
              "      display:flex;\n",
              "      flex-wrap:wrap;\n",
              "      gap: 12px;\n",
              "    }\n",
              "\n",
              "    .colab-df-convert {\n",
              "      background-color: #E8F0FE;\n",
              "      border: none;\n",
              "      border-radius: 50%;\n",
              "      cursor: pointer;\n",
              "      display: none;\n",
              "      fill: #1967D2;\n",
              "      height: 32px;\n",
              "      padding: 0 0 0 0;\n",
              "      width: 32px;\n",
              "    }\n",
              "\n",
              "    .colab-df-convert:hover {\n",
              "      background-color: #E2EBFA;\n",
              "      box-shadow: 0px 1px 2px rgba(60, 64, 67, 0.3), 0px 1px 3px 1px rgba(60, 64, 67, 0.15);\n",
              "      fill: #174EA6;\n",
              "    }\n",
              "\n",
              "    [theme=dark] .colab-df-convert {\n",
              "      background-color: #3B4455;\n",
              "      fill: #D2E3FC;\n",
              "    }\n",
              "\n",
              "    [theme=dark] .colab-df-convert:hover {\n",
              "      background-color: #434B5C;\n",
              "      box-shadow: 0px 1px 3px 1px rgba(0, 0, 0, 0.15);\n",
              "      filter: drop-shadow(0px 1px 2px rgba(0, 0, 0, 0.3));\n",
              "      fill: #FFFFFF;\n",
              "    }\n",
              "  </style>\n",
              "\n",
              "      <script>\n",
              "        const buttonEl =\n",
              "          document.querySelector('#df-c5b4fa19-7c1e-43ee-b692-fa08bd173e08 button.colab-df-convert');\n",
              "        buttonEl.style.display =\n",
              "          google.colab.kernel.accessAllowed ? 'block' : 'none';\n",
              "\n",
              "        async function convertToInteractive(key) {\n",
              "          const element = document.querySelector('#df-c5b4fa19-7c1e-43ee-b692-fa08bd173e08');\n",
              "          const dataTable =\n",
              "            await google.colab.kernel.invokeFunction('convertToInteractive',\n",
              "                                                     [key], {});\n",
              "          if (!dataTable) return;\n",
              "\n",
              "          const docLinkHtml = 'Like what you see? Visit the ' +\n",
              "            '<a target=\"_blank\" href=https://colab.research.google.com/notebooks/data_table.ipynb>data table notebook</a>'\n",
              "            + ' to learn more about interactive tables.';\n",
              "          element.innerHTML = '';\n",
              "          dataTable['output_type'] = 'display_data';\n",
              "          await google.colab.output.renderOutput(dataTable, element);\n",
              "          const docLink = document.createElement('div');\n",
              "          docLink.innerHTML = docLinkHtml;\n",
              "          element.appendChild(docLink);\n",
              "        }\n",
              "      </script>\n",
              "    </div>\n",
              "  </div>\n",
              "  "
            ]
          },
          "metadata": {},
          "execution_count": 21
        }
      ]
    },
    {
      "cell_type": "markdown",
      "source": [
        "### COLOR GROUP NAME"
      ],
      "metadata": {
        "id": "5tYzCZUV1YM_"
      }
    },
    {
      "cell_type": "code",
      "source": [
        "product_group = df_article['product_group_name'].unique()\n",
        "product_group"
      ],
      "metadata": {
        "colab": {
          "base_uri": "https://localhost:8080/"
        },
        "id": "6zxCTJh4JCRv",
        "outputId": "15a2c1af-97ee-42d9-e67b-bac0889922be"
      },
      "execution_count": null,
      "outputs": [
        {
          "output_type": "execute_result",
          "data": {
            "text/plain": [
              "array(['Garment Upper body', 'Underwear', 'Socks & Tights',\n",
              "       'Garment Lower body', 'Accessories', 'Items', 'Nightwear',\n",
              "       'Unknown', 'Underwear/nightwear', 'Shoes', 'Swimwear',\n",
              "       'Garment Full body', 'Cosmetic', 'Interior textile', 'Bags',\n",
              "       'Furniture', 'Garment and Shoe care', 'Fun', 'Stationery'],\n",
              "      dtype=object)"
            ]
          },
          "metadata": {},
          "execution_count": 18
        }
      ]
    },
    {
      "cell_type": "code",
      "source": [
        " section = df_article['section_name'].unique()\n",
        " section"
      ],
      "metadata": {
        "colab": {
          "base_uri": "https://localhost:8080/"
        },
        "id": "W_3B7P_hrmPH",
        "outputId": "d2ce545d-05b3-4603-c7d7-7527912d5d9e"
      },
      "execution_count": null,
      "outputs": [
        {
          "output_type": "execute_result",
          "data": {
            "text/plain": [
              "array(['Womens Everyday Basics', 'Womens Lingerie',\n",
              "       'Womens Nightwear, Socks & Tigh', 'Baby Essentials & Complements',\n",
              "       'Men Underwear', 'Mama', 'Womens Small accessories',\n",
              "       'Men H&M Sport', 'Kids Boy', 'Divided Basics',\n",
              "       'Girls Underwear & Basics', 'Mens Outerwear',\n",
              "       'Womens Big accessories', 'Divided Accessories',\n",
              "       'Womens Swimwear, beachwear', 'Divided Selected',\n",
              "       'Boys Underwear & Basics', 'Contemporary Street',\n",
              "       'Contemporary Casual', 'Men Accessories', 'Men Suits & Tailoring',\n",
              "       'Womens Everyday Collection', 'Men Shoes', 'Young Boy', 'H&M+',\n",
              "       'Divided Collection', 'Ladies Denim', 'Contemporary Smart',\n",
              "       'Womens Trend', 'Kids Outerwear', 'Young Girl', 'Womens Shoes',\n",
              "       'Womens Tailoring', 'Divided Projects', 'Denim Men', 'Men Other',\n",
              "       'Womens Jackets', 'Men Other 2', 'Baby Boy', 'Womens Casual',\n",
              "       'Kids Accessories, Swimwear & D', 'Ladies H&M Sport',\n",
              "       'Kids & Baby Shoes', 'Baby Girl', 'Kids Girl',\n",
              "       'Divided Complements Other', 'Womens Premium',\n",
              "       'Special Collections', 'Kids Sports', 'Men Project', 'Men Edition',\n",
              "       'Collaborations', 'Divided Asia keys', 'EQ Divided',\n",
              "       'Kids Local Relevance', 'Ladies Other'], dtype=object)"
            ]
          },
          "metadata": {},
          "execution_count": 19
        }
      ]
    },
    {
      "cell_type": "code",
      "source": [
        "garment_group = df_article['garment_group_name'].unique()\n",
        "garment_group"
      ],
      "metadata": {
        "colab": {
          "base_uri": "https://localhost:8080/"
        },
        "id": "y3VcMkNhrtIG",
        "outputId": "b20e0b70-418a-4041-8289-16549c9a5549"
      },
      "execution_count": null,
      "outputs": [
        {
          "output_type": "execute_result",
          "data": {
            "text/plain": [
              "array(['Jersey Basic', 'Under-, Nightwear', 'Socks and Tights',\n",
              "       'Jersey Fancy', 'Accessories', 'Trousers Denim', 'Outdoor',\n",
              "       'Shoes', 'Swimwear', 'Knitwear', 'Shirts', 'Trousers', 'Dressed',\n",
              "       'Shorts', 'Dresses Ladies', 'Skirts', 'Special Offers', 'Blouses',\n",
              "       'Unknown', 'Woven/Jersey/Knitted mix Baby', 'Dresses/Skirts girls'],\n",
              "      dtype=object)"
            ]
          },
          "metadata": {},
          "execution_count": 20
        }
      ]
    }
  ]
}