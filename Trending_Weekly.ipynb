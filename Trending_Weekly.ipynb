{
  "nbformat": 4,
  "nbformat_minor": 0,
  "metadata": {
    "colab": {
      "provenance": [],
      "authorship_tag": "ABX9TyOXhwRpFpCxzGwSo7FNy1Zv",
      "include_colab_link": true
    },
    "kernelspec": {
      "name": "python3",
      "display_name": "Python 3"
    },
    "language_info": {
      "name": "python"
    }
  },
  "cells": [
    {
      "cell_type": "markdown",
      "metadata": {
        "id": "view-in-github",
        "colab_type": "text"
      },
      "source": [
        "<a href=\"https://colab.research.google.com/github/thanhyx4/H-M-Personalized-Fashion-Recommendations/blob/main/Trending_Weekly.ipynb\" target=\"_parent\"><img src=\"https://colab.research.google.com/assets/colab-badge.svg\" alt=\"Open In Colab\"/></a>"
      ]
    },
    {
      "cell_type": "code",
      "source": [
        "import numpy as np # linear algebra\n",
        "import pandas as pd # data processing, CSV file I/O (e.g. pd.read_csv)"
      ],
      "metadata": {
        "id": "Ivr8e9rSiCcM"
      },
      "execution_count": 1,
      "outputs": []
    },
    {
      "cell_type": "code",
      "execution_count": 2,
      "metadata": {
        "colab": {
          "base_uri": "https://localhost:8080/"
        },
        "id": "3FW89UOvVziH",
        "outputId": "4281c305-c2cb-4a53-fa6a-16dec0807032"
      },
      "outputs": [
        {
          "output_type": "stream",
          "name": "stdout",
          "text": [
            "Mounted at /content/drive\n"
          ]
        }
      ],
      "source": [
        "from google.colab import drive\n",
        "drive.mount('/content/drive')"
      ]
    },
    {
      "cell_type": "code",
      "source": [
        "# df_tran_1w  = pd.read_csv(\"/content/drive/MyDrive/Colab Notebooks/H&M_RecSys/df_submission.csv\")\n",
        "# df_tran_1w_lastyear = pd.read_csv(\"/content/drive/MyDrive/Colab Notebooks/H&M_RecSys/df_submission.csv\")\n",
        "# df_tran_1w_last2year = pd.read_csv(\"/content/drive/MyDrive/Colab Notebooks/H&M_RecSys/df_submission.csv\")\n",
        "\n",
        "df_submiss = pd.read_csv(\"/content/drive/MyDrive/Colab Notebooks/H&M_RecSys/df_submission.csv\")"
      ],
      "metadata": {
        "id": "HFK8smQPhzdH"
      },
      "execution_count": 8,
      "outputs": []
    },
    {
      "cell_type": "code",
      "source": [
        "df_submiss.columns"
      ],
      "metadata": {
        "colab": {
          "base_uri": "https://localhost:8080/"
        },
        "id": "JD7I4MKAhzuk",
        "outputId": "e3853619-61cb-4909-97ec-d97f710abe4d"
      },
      "execution_count": 9,
      "outputs": [
        {
          "output_type": "execute_result",
          "data": {
            "text/plain": [
              "Index(['customer_id'], dtype='object')"
            ]
          },
          "metadata": {},
          "execution_count": 9
        }
      ]
    },
    {
      "cell_type": "code",
      "source": [
        "print(len(df_submit))\n",
        "print(len(df_submiss))"
      ],
      "metadata": {
        "colab": {
          "base_uri": "https://localhost:8080/"
        },
        "id": "_tW8T-4hi3RA",
        "outputId": "c857f8e0-ebd7-4e46-d0e8-603bc92d3298"
      },
      "execution_count": null,
      "outputs": [
        {
          "output_type": "stream",
          "name": "stdout",
          "text": [
            "1371980\n",
            "1371980\n"
          ]
        }
      ]
    },
    {
      "cell_type": "code",
      "source": [],
      "metadata": {
        "id": "SwU3d-RFlxMG"
      },
      "execution_count": null,
      "outputs": []
    }
  ]
}